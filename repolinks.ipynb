{
 "cells": [
  {
   "cell_type": "markdown",
   "id": "6ca64bdb",
   "metadata": {},
   "source": [
    "## 📘 Complete Python Materials\n",
    "\n",
    "[🔗 Python Course Materials (Krish Naik)](https://github.com/krishnaik06/Complete-Python-Bootcamp)\n",
    "\n",
    "📓 Please find the complete materials with handwritten notes:\n",
    "\n",
    "[🔗 Complete Data Science With Machine Learning and NLP 2024](https://github.com/krishnaik06/Complete-Data-Science-With-Machine-Learning-And-NLP-2024)\n"
   ]
  }
 ],
 "metadata": {
  "language_info": {
   "name": "python"
  }
 },
 "nbformat": 4,
 "nbformat_minor": 5
}
