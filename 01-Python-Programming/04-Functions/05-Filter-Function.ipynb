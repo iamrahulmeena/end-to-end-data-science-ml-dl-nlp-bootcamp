{
 "cells": [
  {
   "cell_type": "markdown",
   "id": "ad6b3630",
   "metadata": {},
   "source": [
    "### Filter Function\n",
    "The filter() function constructs an iterator from elements of an iterable for which a function returns true. It is used to filter out items from a list (or any other iterable) based on a condition"
   ]
  },
  {
   "cell_type": "code",
   "execution_count": 1,
   "id": "1c65b9fb",
   "metadata": {},
   "outputs": [
    {
     "data": {
      "text/plain": [
       "True"
      ]
     },
     "execution_count": 1,
     "metadata": {},
     "output_type": "execute_result"
    }
   ],
   "source": [
    "def even(number):\n",
    "    if number % 2 == 0:\n",
    "        return True\n",
    "    else:\n",
    "        return False\n",
    "    \n",
    "even(4)"
   ]
  },
  {
   "cell_type": "code",
   "execution_count": 2,
   "id": "c152e852",
   "metadata": {},
   "outputs": [
    {
     "data": {
      "text/plain": [
       "[2, 4, 6, 8, 10]"
      ]
     },
     "execution_count": 2,
     "metadata": {},
     "output_type": "execute_result"
    }
   ],
   "source": [
    "numbers = [1, 2, 3, 4, 5, 6, 7, 8, 9, 10]\n",
    "\n",
    "list(filter(even, numbers))"
   ]
  },
  {
   "cell_type": "markdown",
   "id": "90e51e9f",
   "metadata": {},
   "source": [
    "### Filter with Lambda"
   ]
  },
  {
   "cell_type": "code",
   "execution_count": 3,
   "id": "a70152eb",
   "metadata": {},
   "outputs": [
    {
     "data": {
      "text/plain": [
       "[6, 7, 8, 9, 10]"
      ]
     },
     "execution_count": 3,
     "metadata": {},
     "output_type": "execute_result"
    }
   ],
   "source": [
    "numbers = [1, 2, 3, 4, 5, 6, 7, 8, 9, 10]\n",
    "\n",
    "greater_than_five = list(filter(lambda x:x>5, numbers))\n",
    "greater_than_five"
   ]
  },
  {
   "cell_type": "markdown",
   "id": "5bbfe9dc",
   "metadata": {},
   "source": [
    "### Filter with Lambda Function and Multiple Conditions"
   ]
  },
  {
   "cell_type": "code",
   "execution_count": 4,
   "id": "a4aa72bb",
   "metadata": {},
   "outputs": [
    {
     "data": {
      "text/plain": [
       "[6, 8, 10]"
      ]
     },
     "execution_count": 4,
     "metadata": {},
     "output_type": "execute_result"
    }
   ],
   "source": [
    "numbers = [1, 2, 3, 4, 5, 6, 7, 8, 9, 10]\n",
    "even_and_greater_than_five = list(filter(lambda x:x>5 and x%2==0, numbers))\n",
    "even_and_greater_than_five"
   ]
  },
  {
   "cell_type": "markdown",
   "id": "9e72bc5e",
   "metadata": {},
   "source": [
    "### Filter Operations on Dictionaries"
   ]
  },
  {
   "cell_type": "code",
   "execution_count": 5,
   "id": "8750b464",
   "metadata": {},
   "outputs": [
    {
     "data": {
      "text/plain": [
       "[{'name': 'Saad', 'age': 28},\n",
       " {'name': 'Joe', 'age': 33},\n",
       " {'name': 'Jack', 'age': 26}]"
      ]
     },
     "execution_count": 5,
     "metadata": {},
     "output_type": "execute_result"
    }
   ],
   "source": [
    "## Filter to check if age is greater than 25 in dictionary\n",
    "\n",
    "def age_greater_than_25(person):\n",
    "    return person['age'] > 25\n",
    "\n",
    "people = [\n",
    "    {'name': 'Saad', 'age':28},\n",
    "    {'name': 'Joe', 'age':33},\n",
    "    {'name': 'Jack', 'age':26},\n",
    "    {'name': 'Jill', 'age':24},\n",
    "]\n",
    "\n",
    "list(filter(age_greater_than_25, people))"
   ]
  }
 ],
 "metadata": {
  "kernelspec": {
   "display_name": "dsenv",
   "language": "python",
   "name": "python3"
  },
  "language_info": {
   "codemirror_mode": {
    "name": "ipython",
    "version": 3
   },
   "file_extension": ".py",
   "mimetype": "text/x-python",
   "name": "python",
   "nbconvert_exporter": "python",
   "pygments_lexer": "ipython3",
   "version": "3.10.0"
  }
 },
 "nbformat": 4,
 "nbformat_minor": 5
}
